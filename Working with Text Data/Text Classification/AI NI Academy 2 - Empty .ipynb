{
 "cells": [
  {
   "cell_type": "markdown",
   "metadata": {},
   "source": [
    "# AI NI Academy 2\n",
    "***\n",
    "This is a complimentary notebook to go alongside the Azure ML Studio project that we will be taking you through. Feel through to follow on with this notebook, or save it for later so you can compare the code and learn how to complete this model with Python!\n",
    "***"
   ]
  },
  {
   "cell_type": "markdown",
   "metadata": {},
   "source": [
    "## Imports\n",
    "***"
   ]
  },
  {
   "cell_type": "code",
   "execution_count": null,
   "metadata": {},
   "outputs": [],
   "source": []
  },
  {
   "cell_type": "markdown",
   "metadata": {},
   "source": [
    "## Data\n",
    "***\n",
    "Load in your data using the Pandas library, so that we have something to work with. It's good practice to understand your data before you start working with it. We do this by using the .head() function which will print the first 5 records. \n",
    "\n",
    "__Tip:__ If you put a number inside the parenthesis it will print that amount instead of the default, 5. \n",
    "***"
   ]
  },
  {
   "cell_type": "code",
   "execution_count": null,
   "metadata": {},
   "outputs": [],
   "source": []
  },
  {
   "cell_type": "markdown",
   "metadata": {},
   "source": [
    "## Feature Engineering\n",
    "***\n",
    "We need to do a bit of work with the data before we can train our model with it and get predictions. \n",
    "\n",
    "To Do: \n",
    "- Seperate sentiment and associated text\n",
    "- Replace the punction and numbers found in the review's text with space\n",
    "- Turn all the text to lowercase\n",
    "***"
   ]
  },
  {
   "cell_type": "code",
   "execution_count": null,
   "metadata": {},
   "outputs": [],
   "source": []
  },
  {
   "cell_type": "markdown",
   "metadata": {},
   "source": [
    "## Let's Train\n",
    "***\n",
    "Ok, so now we have formatted and organised our data. We need to set it up to be fed into our model; to do that we will need to do the following: \n",
    "\n",
    "To Do:\n",
    "- Assign the review text and sentiment data to X and Y\n",
    "- Split the data into training data and testing data\n",
    "- Use a count vectorizer to count the words, creating a bag of words\n",
    "- Use a tfidf transformer to reduce the significance of more common words, like \"the\", \"it\" and \"a\"\n",
    "- Train a Logistic Regression model and a Support Vector Machine\n",
    "- Find the accuracy of both\n",
    "- Generate a classification report\n",
    "***"
   ]
  },
  {
   "cell_type": "code",
   "execution_count": null,
   "metadata": {},
   "outputs": [],
   "source": []
  }
 ],
 "metadata": {
  "kernelspec": {
   "display_name": "Python 3",
   "language": "python",
   "name": "python3"
  },
  "language_info": {
   "codemirror_mode": {
    "name": "ipython",
    "version": 3
   },
   "file_extension": ".py",
   "mimetype": "text/x-python",
   "name": "python",
   "nbconvert_exporter": "python",
   "pygments_lexer": "ipython3",
   "version": "3.6.5"
  }
 },
 "nbformat": 4,
 "nbformat_minor": 2
}
