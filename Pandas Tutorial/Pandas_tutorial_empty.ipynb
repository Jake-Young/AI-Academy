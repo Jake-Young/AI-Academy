{
 "cells": [
  {
   "cell_type": "markdown",
   "metadata": {},
   "source": [
    "# Python Pandas Tutorial \n",
    "###### by Eóin McMahon\n",
    "***\n",
    "\n",
    "![panda](pandaatcomputer.jpg)\n",
    "***\n",
    "##### Pandas is very important for reading in your data and viewing it in an informative way, It will help a lot when you need to do any sort of data analysing. In this tutorial I will go over the basics of python pandas so that you will be able to read and manipulate data that you can use later for anything you see fit.\n"
   ]
  },
  {
   "cell_type": "markdown",
   "metadata": {},
   "source": [
    "### First, your imports\n",
    "***\n",
    "as well as pandas you will also be using matplotlib in this tutorial to help you visualise the data graphically. I am using \"pd\" as an alias for pandas to save you the time of typing it out."
   ]
  },
  {
   "cell_type": "code",
   "execution_count": 2,
   "metadata": {},
   "outputs": [],
   "source": [
    "import pandas as pd\n",
    "import matplotlib.pyplot as plt\n",
    "import numpy as np"
   ]
  },
  {
   "cell_type": "markdown",
   "metadata": {},
   "source": [
    "### Read in your Data\n",
    "***"
   ]
  },
  {
   "cell_type": "markdown",
   "metadata": {},
   "source": [
    " read in your data using `pd.read_csv(filename)` and store it in a variable named `dataframe`, use `dataframe.head()` to show the the first rows of data in a neat table. `dataframe.head()` by default produces the first 5 rows however you can specify how many rows you want to see by using the integer as a parameter in the `dataframe.head()` function you can also use the `dataframe.tail()` function to select from the end of the dataframe"
   ]
  },
  {
   "cell_type": "code",
   "execution_count": null,
   "metadata": {},
   "outputs": [],
   "source": []
  },
  {
   "cell_type": "markdown",
   "metadata": {},
   "source": [
    "print the head of the dataframe"
   ]
  },
  {
   "cell_type": "code",
   "execution_count": null,
   "metadata": {},
   "outputs": [],
   "source": []
  },
  {
   "cell_type": "markdown",
   "metadata": {},
   "source": [
    "print the tail of the dataframe"
   ]
  },
  {
   "cell_type": "code",
   "execution_count": null,
   "metadata": {},
   "outputs": [],
   "source": []
  },
  {
   "cell_type": "markdown",
   "metadata": {},
   "source": [
    "we can use `dataframe.describe()` to give a quick summary of our data. print description table of dataframe\n"
   ]
  },
  {
   "cell_type": "code",
   "execution_count": null,
   "metadata": {},
   "outputs": [],
   "source": []
  },
  {
   "cell_type": "markdown",
   "metadata": {},
   "source": []
  },
  {
   "cell_type": "markdown",
   "metadata": {},
   "source": [
    "#### Selecting  Rows and Columns\n",
    "***"
   ]
  },
  {
   "cell_type": "markdown",
   "metadata": {},
   "source": [
    "select specific columns by using `dataframe[column name]` which yields a series. select the age column of the dataframe"
   ]
  },
  {
   "cell_type": "code",
   "execution_count": null,
   "metadata": {},
   "outputs": [],
   "source": []
  },
  {
   "cell_type": "markdown",
   "metadata": {},
   "source": [
    "we can view the series as a list using the `.tolist()` function on the dataframe column. print out the age column of the dataframe as a list."
   ]
  },
  {
   "cell_type": "code",
   "execution_count": null,
   "metadata": {},
   "outputs": [],
   "source": []
  },
  {
   "cell_type": "markdown",
   "metadata": {},
   "source": [
    "select multiple columns by using `dataframe[[column1, column2]]`. print out the age and pclass columns of the dataframe"
   ]
  },
  {
   "cell_type": "code",
   "execution_count": null,
   "metadata": {},
   "outputs": [],
   "source": []
  },
  {
   "cell_type": "markdown",
   "metadata": {},
   "source": [
    "#### Getting rows with splicing\n",
    "***\n",
    "Select the first 3 Rows using python splicing [from:to] \n"
   ]
  },
  {
   "cell_type": "code",
   "execution_count": null,
   "metadata": {},
   "outputs": [],
   "source": []
  },
  {
   "cell_type": "markdown",
   "metadata": {},
   "source": [
    "select from the 3rd row to the 6th row. Remember! python splicing is [inclusive: exclusive]"
   ]
  },
  {
   "cell_type": "code",
   "execution_count": null,
   "metadata": {},
   "outputs": [],
   "source": []
  },
  {
   "cell_type": "markdown",
   "metadata": {},
   "source": [
    "#### Selction by Label\n",
    "***"
   ]
  },
  {
   "cell_type": "markdown",
   "metadata": {},
   "source": [
    "use `dataframe.loc(dataframe[columnname] == value)` to access a group of rows and columns by label(s) or a boolean array. In this case, create a new dataframe holding only the passengers who are twenty nine years old."
   ]
  },
  {
   "cell_type": "code",
   "execution_count": null,
   "metadata": {},
   "outputs": [],
   "source": []
  },
  {
   "cell_type": "markdown",
   "metadata": {},
   "source": [
    "we can select rows where the wanted values are in a list by using the `isin()` function. <br>\n",
    "Create a list called teenagers, and select all the rows where the passenger age is within the age range of 13 to 19"
   ]
  },
  {
   "cell_type": "code",
   "execution_count": null,
   "metadata": {},
   "outputs": [],
   "source": []
  },
  {
   "cell_type": "markdown",
   "metadata": {},
   "source": [
    "you can use `dataframe.at(row, column)` to get value at specified row/column pair. use this to get the age of the passenger in the 10th row"
   ]
  },
  {
   "cell_type": "code",
   "execution_count": null,
   "metadata": {},
   "outputs": [],
   "source": []
  },
  {
   "cell_type": "markdown",
   "metadata": {},
   "source": [
    "you can use boolean indexing to get all the rows that match a given selection criteria. using `dataframe[dataframe[columnname] criteria]` store all rows of passengers over the age 65 in a new dataframe named \"elderly\""
   ]
  },
  {
   "cell_type": "code",
   "execution_count": null,
   "metadata": {},
   "outputs": [],
   "source": []
  },
  {
   "cell_type": "markdown",
   "metadata": {},
   "source": [
    "Using a for loop, we can loop through a dataset column to grab its values. loop through all names in the dataframe and print out each name."
   ]
  },
  {
   "cell_type": "code",
   "execution_count": null,
   "metadata": {},
   "outputs": [],
   "source": []
  },
  {
   "cell_type": "markdown",
   "metadata": {},
   "source": [
    "#### Dataframe Visualisation\n",
    "***"
   ]
  },
  {
   "cell_type": "markdown",
   "metadata": {},
   "source": [
    "we can visualise specific columns using matplotlib functions `.plot()` or `.hist()` draw a line graph of the fare cost against the amount of people. also, plot a histogram of the passenger age and amount of people."
   ]
  },
  {
   "cell_type": "code",
   "execution_count": null,
   "metadata": {},
   "outputs": [],
   "source": []
  },
  {
   "cell_type": "markdown",
   "metadata": {},
   "source": [
    "or we can plot all columns by calling `.plot()` on the whole dataframe. plot a line graph of the whole dataframe"
   ]
  },
  {
   "cell_type": "code",
   "execution_count": null,
   "metadata": {},
   "outputs": [],
   "source": []
  },
  {
   "cell_type": "markdown",
   "metadata": {},
   "source": [
    "#### Dataframe Manipulation\n",
    "***"
   ]
  },
  {
   "cell_type": "markdown",
   "metadata": {},
   "source": [
    "You can drop columns using `dataframe.drop(columns=[])` to drop off the columns that you dont need. create a new dataframe with only the columns \"pclass, survived, name, sex, age, ticket, fare\""
   ]
  },
  {
   "cell_type": "code",
   "execution_count": null,
   "metadata": {},
   "outputs": [],
   "source": []
  },
  {
   "cell_type": "markdown",
   "metadata": {},
   "source": [
    "We can rename columns using `dataframe.rename(columns={oldname:newname}, inplace = True)` rename the column \"fare\" to \"ticketPrice\""
   ]
  },
  {
   "cell_type": "code",
   "execution_count": null,
   "metadata": {},
   "outputs": [],
   "source": []
  },
  {
   "cell_type": "markdown",
   "metadata": {},
   "source": [
    "We can concatenate separate dataframes into one dataframe \n",
    "use `pd.concat([column1, column2], axis = 1)`. create a dataframe for all the ages and a dataframe of all the ticketPrices and concatenate them into one dataframe called ages_and_fares."
   ]
  },
  {
   "cell_type": "code",
   "execution_count": null,
   "metadata": {},
   "outputs": [],
   "source": []
  },
  {
   "cell_type": "markdown",
   "metadata": {},
   "source": [
    "We can change the values in specific row and column pairs by using the `dataframe.at()` function. set the survived column of the first row to 0.0"
   ]
  },
  {
   "cell_type": "code",
   "execution_count": null,
   "metadata": {},
   "outputs": [],
   "source": []
  },
  {
   "cell_type": "markdown",
   "metadata": {},
   "source": [
    "we can drop rows where the age is not specfied by using `dataframe[np.isfinite(dataframe[column])]`, np is the alias I created for numpy, this is the only time in this tutorial I have used numpy but it can be used for a lot more than I have shown. See the numpy tutorial for more information on it. use this to drop all NaN values from the age column"
   ]
  },
  {
   "cell_type": "code",
   "execution_count": null,
   "metadata": {},
   "outputs": [],
   "source": []
  },
  {
   "cell_type": "markdown",
   "metadata": {},
   "source": [
    "Now all `NaN` age values have been removed, however now their indexes are missing. For example index 15 is now missing form the dataframe, to reset the indexes, use `dataframe.reset_index()`. Also use the `drop=True` parameter to avoid the old indexes being added as a column."
   ]
  },
  {
   "cell_type": "code",
   "execution_count": null,
   "metadata": {},
   "outputs": [],
   "source": []
  },
  {
   "cell_type": "markdown",
   "metadata": {},
   "source": [
    "Notice that the pclass and age columns consists only of floats, if we want to change this to integers we can use the lambda function on the columns. Use dataframe[column] = dataframe[column].apply(lambda oldX: newX) to set all age values to integers and all pclass values to integers"
   ]
  },
  {
   "cell_type": "code",
   "execution_count": null,
   "metadata": {},
   "outputs": [],
   "source": []
  },
  {
   "cell_type": "markdown",
   "metadata": {},
   "source": [
    "Using the same logic, set all characters in the name column to lower case"
   ]
  },
  {
   "cell_type": "code",
   "execution_count": null,
   "metadata": {},
   "outputs": [],
   "source": []
  },
  {
   "cell_type": "markdown",
   "metadata": {},
   "source": [
    "Notice that survived is a float value of 1 or 0, if we want to change this to True or False, we can use the asType() function. using the asType() function, set the survived column to type boolean."
   ]
  },
  {
   "cell_type": "code",
   "execution_count": null,
   "metadata": {},
   "outputs": [],
   "source": []
  },
  {
   "cell_type": "markdown",
   "metadata": {},
   "source": [
    "double all ticket prices by multiplying the dataframe column by 2."
   ]
  },
  {
   "cell_type": "code",
   "execution_count": null,
   "metadata": {},
   "outputs": [],
   "source": []
  },
  {
   "cell_type": "markdown",
   "metadata": {},
   "source": [
    "and set it back to normal by dividing by 2"
   ]
  },
  {
   "cell_type": "code",
   "execution_count": null,
   "metadata": {},
   "outputs": [],
   "source": []
  },
  {
   "cell_type": "markdown",
   "metadata": {},
   "source": [
    "Once we are finished cleaning up our dataframe we can export it back to a csv by using the `dataframe.to_csv()` function. export the data back to a csv."
   ]
  },
  {
   "cell_type": "code",
   "execution_count": null,
   "metadata": {},
   "outputs": [],
   "source": []
  },
  {
   "cell_type": "code",
   "execution_count": null,
   "metadata": {},
   "outputs": [],
   "source": []
  }
 ],
 "metadata": {
  "kernelspec": {
   "display_name": "Python 2",
   "language": "python",
   "name": "python2"
  },
  "language_info": {
   "codemirror_mode": {
    "name": "ipython",
    "version": 2
   },
   "file_extension": ".py",
   "mimetype": "text/x-python",
   "name": "python",
   "nbconvert_exporter": "python",
   "pygments_lexer": "ipython2",
   "version": "2.7.15"
  }
 },
 "nbformat": 4,
 "nbformat_minor": 2
}
